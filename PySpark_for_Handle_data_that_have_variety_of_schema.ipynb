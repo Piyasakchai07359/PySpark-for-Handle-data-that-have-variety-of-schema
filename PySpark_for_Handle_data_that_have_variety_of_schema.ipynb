{
  "cells": [
    {
      "cell_type": "markdown",
      "metadata": {
        "id": "nF61dHvBHAVJ"
      },
      "source": [
        "# **Setting Apache Spark on Google Colab**\n",
        "\n",
        "---\n",
        "\n"
      ]
    },
    {
      "cell_type": "code",
      "execution_count": null,
      "metadata": {
        "id": "WAF8CcgJD2aL"
      },
      "outputs": [],
      "source": [
        "!apt-get update\n",
        "!apt-get install openjdk-8-jdk-headless -qq > /dev/null\n",
        "!wget -q https://archive.apache.org/dist/spark/spark-3.1.2/spark-3.1.2-bin-hadoop2.7.tgz\n",
        "!tar xzvf spark-3.1.2-bin-hadoop2.7.tgz\n",
        "!pip install -q findspark==1.3.0"
      ]
    },
    {
      "cell_type": "code",
      "execution_count": null,
      "metadata": {
        "id": "XAdVdrjfExq4"
      },
      "outputs": [],
      "source": [
        "import os\n",
        "os.environ[\"JAVA_HOME\"] = \"/usr/lib/jvm/java-8-openjdk-amd64\"\n",
        "os.environ[\"SPARK_HOME\"] = \"/content/spark-3.1.2-bin-hadoop2.7\""
      ]
    },
    {
      "cell_type": "code",
      "execution_count": null,
      "metadata": {
        "id": "XhD-4bYZFjoh"
      },
      "outputs": [],
      "source": [
        "!pip install pyspark==3.1.2"
      ]
    },
    {
      "cell_type": "code",
      "execution_count": null,
      "metadata": {
        "id": "fieFD3C5Frzo"
      },
      "outputs": [],
      "source": [
        "from pyspark.sql import SparkSession\n",
        "from pyspark.sql.functions import *\n",
        "from pyspark.sql.types import  StringType, IntegerType\n",
        "\n",
        "spark = SparkSession.builder.master(\"local[*]\").getOrCreate()"
      ]
    },
    {
      "cell_type": "markdown",
      "metadata": {
        "id": "V7i8LDTMHsah"
      },
      "source": [
        "# **Load Data & Clean Data & Process Data**\n",
        "\n",
        "---\n",
        "\n"
      ]
    },
    {
      "cell_type": "markdown",
      "metadata": {
        "id": "lq3JEJX7tRwb"
      },
      "source": [
        "## Read Data"
      ]
    },
    {
      "cell_type": "code",
      "execution_count": null,
      "metadata": {
        "id": "xdvQ0hrXM4Je",
        "colab": {
          "base_uri": "https://localhost:8080/"
        },
        "outputId": "0f489b55-cb5c-4778-bdfe-44cf5011b880"
      },
      "outputs": [
        {
          "output_type": "stream",
          "name": "stdout",
          "text": [
            "Number of all files : 4\n"
          ]
        }
      ],
      "source": [
        "data = spark.read.csv('/content/data_test/*.csv', header = False, inferSchema = False) #Read all data that have .csv\n",
        "data=data.withColumn(\"filename\", input_file_name()) #Create a column that contrain path of files\n",
        "data = data.withColumn('filename', regexp_replace('filename', 'file:///content/data_test/', '')) #Repalce path of files\n",
        "\n",
        "number_files=int(data.select('filename').distinct().count())\n",
        "print(\"Number of all files : {}\".format(number_files)) # Output number of all data that we readed"
      ]
    },
    {
      "cell_type": "code",
      "execution_count": null,
      "metadata": {
        "id": "KZbnU1ibNaJI",
        "colab": {
          "base_uri": "https://localhost:8080/"
        },
        "outputId": "7fed8e12-537e-414e-d1cc-37cfc60f32e5"
      },
      "outputs": [
        {
          "output_type": "stream",
          "name": "stdout",
          "text": [
            "+-----+----------------+-----------+-----------+-----------+-------------------+\n",
            "|_c0  |_c1             |_c2        |_c3        |_c4        |filename           |\n",
            "+-----+----------------+-----------+-----------+-----------+-------------------+\n",
            "|ID   |First name      |Last name  |Score Part1|Score Part2|sample_data_004.csv|\n",
            "|30485|Bokim           |Enjivoko   |42         |21         |sample_data_004.csv|\n",
            "|42443|Zine            |Honolim    |34         |33         |sample_data_004.csv|\n",
            "|89923|Boxinz          |Fulamaranko|23         |34         |sample_data_004.csv|\n",
            "|ID   |First name      |Last name  |Score Part1|Score Part2|sample_data_003.csv|\n",
            "|08067|Lin             |Enjivoko   |35         |42         |sample_data_003.csv|\n",
            "|09443|Dome            |Fulkivol   |23         |37         |sample_data_003.csv|\n",
            "|08963|Valki           |Domtomkiz  |12         |25         |sample_data_003.csv|\n",
            "|ID   |Name            |Score      |null       |null       |sample_data_002.csv|\n",
            "|07012|Bim Sarimarai   |38         |null       |null       |sample_data_002.csv|\n",
            "|07885|Fern Chimokoli  |86         |null       |null       |sample_data_002.csv|\n",
            "|08459|Non Koomjicus   |78         |null       |null       |sample_data_002.csv|\n",
            "|10876|Nomoji Boomhabim|null       |null       |null       |sample_data_002.csv|\n",
            "|ID   |First name      |Last name  |Score      |null       |sample_data_001.csv|\n",
            "|07019|John            |Jinmano    |89         |null       |sample_data_001.csv|\n",
            "|07023|Ampino          |Nattima    |45         |null       |sample_data_001.csv|\n",
            "|07540|Pina            |Aimomani   |54         |null       |sample_data_001.csv|\n",
            "+-----+----------------+-----------+-----------+-----------+-------------------+\n",
            "\n"
          ]
        }
      ],
      "source": [
        "data.show(truncate=False) # Show raw data that we readed"
      ]
    },
    {
      "cell_type": "markdown",
      "metadata": {
        "id": "aWrWK14Suu4b"
      },
      "source": [
        "## Separate row of data that contrain header"
      ]
    },
    {
      "cell_type": "code",
      "execution_count": null,
      "metadata": {
        "id": "fGeyQPw1VS3J"
      },
      "outputs": [],
      "source": [
        "body_data=data.filter(data['_c0'] !=\"ID\") #Separate row of data that contrain header\n",
        "col_data=data.filter(data['_c0'] ==\"ID\")"
      ]
    },
    {
      "cell_type": "code",
      "execution_count": null,
      "metadata": {
        "id": "o6pmg7nEW3DX",
        "colab": {
          "base_uri": "https://localhost:8080/"
        },
        "outputId": "10b4166f-67fa-4432-b1a7-9227859c8b82"
      },
      "outputs": [
        {
          "output_type": "stream",
          "name": "stdout",
          "text": [
            "Number of data that contrain header : 4\n"
          ]
        }
      ],
      "source": [
        "number_type_col_1=int(col_data.distinct().count()) # Output number of data that contrain header\n",
        "print(\"Number of data that contrain header : {}\".format(number_type_col_1))"
      ]
    },
    {
      "cell_type": "code",
      "execution_count": null,
      "metadata": {
        "id": "R94n3DhAXUlL",
        "colab": {
          "base_uri": "https://localhost:8080/"
        },
        "outputId": "74f9ceb0-c58a-4cf5-c39a-151b9007c688"
      },
      "outputs": [
        {
          "output_type": "stream",
          "name": "stdout",
          "text": [
            "PASS :)\n"
          ]
        }
      ],
      "source": [
        "if number_type_col_1 == number_files:\n",
        "  print(\"PASS :)\")                                               # Check number of data that contrain header must have equivalent number of all data that we readed\n",
        "else:\n",
        "  print(\"TYPE COLUMN NOT MACTH WITH NUMBER FILE!!!\")"
      ]
    },
    {
      "cell_type": "code",
      "execution_count": null,
      "metadata": {
        "id": "ZnRaaFdHsNLP",
        "colab": {
          "base_uri": "https://localhost:8080/"
        },
        "outputId": "c1127160-12a9-4240-c7c0-edb5b62c8804"
      },
      "outputs": [
        {
          "output_type": "stream",
          "name": "stdout",
          "text": [
            "Number of type columns : 3\n"
          ]
        }
      ],
      "source": [
        "number_type_col_2=int(col_data.dropDuplicates(['_c0','_c1','_c2','_c3','_c4']).count()) # Show Unique data that contrain header\n",
        "print(\"Number of type columns : {}\".format(number_type_col_2))"
      ]
    },
    {
      "cell_type": "code",
      "execution_count": null,
      "metadata": {
        "id": "TNNIGyy5Wl35",
        "colab": {
          "base_uri": "https://localhost:8080/"
        },
        "outputId": "5b25c40c-b7b8-4b73-c6b4-1b50302be6d1"
      },
      "outputs": [
        {
          "output_type": "stream",
          "name": "stdout",
          "text": [
            "+---+----------+---------+-----------+-----------+-------------------+\n",
            "|_c0|       _c1|      _c2|        _c3|        _c4|           filename|\n",
            "+---+----------+---------+-----------+-----------+-------------------+\n",
            "| ID|First name|Last name|Score Part1|Score Part2|sample_data_004.csv|\n",
            "| ID|First name|Last name|Score Part1|Score Part2|sample_data_003.csv|\n",
            "| ID|      Name|    Score|       null|       null|sample_data_002.csv|\n",
            "| ID|First name|Last name|      Score|       null|sample_data_001.csv|\n",
            "+---+----------+---------+-----------+-----------+-------------------+\n",
            "\n"
          ]
        }
      ],
      "source": [
        "col_data.show() # Show data that contrain header"
      ]
    },
    {
      "cell_type": "code",
      "execution_count": null,
      "metadata": {
        "id": "aKITM-ihrkhg",
        "colab": {
          "base_uri": "https://localhost:8080/"
        },
        "outputId": "74c8a1ce-97dd-4019-bb5e-e5ac7eacb2a2"
      },
      "outputs": [
        {
          "output_type": "stream",
          "name": "stdout",
          "text": [
            "+-------------------+-----+\n",
            "|           filename| type|\n",
            "+-------------------+-----+\n",
            "|sample_data_001.csv|type1|\n",
            "|sample_data_002.csv|type2|\n",
            "|sample_data_004.csv|type3|\n",
            "|sample_data_003.csv|type3|\n",
            "+-------------------+-----+\n",
            "\n"
          ]
        }
      ],
      "source": [
        "name_file_type1=col_data.filter(col_data['_c3'] ==\"Score\")\n",
        "name_file_type1=name_file_type1.withColumn('type',lit('type1')).select(\"filename\",\"type\")   # Set type of data\n",
        "\n",
        "name_file_type2=col_data.filter(col_data['_c1'] ==\"Name\")\n",
        "name_file_type2=name_file_type2.withColumn('type',lit('type2')).select(\"filename\",\"type\")  # Set type of data\n",
        "\n",
        "name_file_type3=col_data.filter((col_data['_c4'] ==\"Score Part2\") )\n",
        "name_file_type3=name_file_type3.withColumn('type',lit('type3')).select(\"filename\",\"type\")  # Set type of data\n",
        "\n",
        "table_type=name_file_type1\n",
        "table_type=table_type.unionByName(name_file_type2, allowMissingColumns=True)\n",
        "table_type=table_type.unionByName(name_file_type3, allowMissingColumns=True)\n",
        "\n",
        "table_type.show() # Show table that contrain type of data"
      ]
    },
    {
      "cell_type": "markdown",
      "metadata": {
        "id": "RUp0AGeby4F3"
      },
      "source": [
        "## Separate row of data that contrain body data"
      ]
    },
    {
      "cell_type": "code",
      "execution_count": null,
      "metadata": {
        "id": "mf-GFb99wy1e"
      },
      "outputs": [],
      "source": [
        "data_added_type=body_data.join(table_type,body_data.filename == table_type.filename,\"inner\").drop(\"filename\")  # Join data that contrain with table that contrain type of data and drop filename column\n",
        "\n",
        "\n",
        "data_type1=data_added_type.filter(data_added_type['type'] ==\"type1\") # saprated data for setting\n",
        "data_type2=data_added_type.filter(data_added_type['type'] ==\"type2\")\n",
        "data_type3=data_added_type.filter(data_added_type['type'] ==\"type3\")\n",
        "\n",
        "data_type1 = data_type1.withColumn(\"Name\", concat(data_type3[\"_c1\"],lit(' '),data_type3[\"_c2\"]))      # setting body data that saprated\n",
        "data_type1 = data_type1.withColumnRenamed(\"_c0\", \"ID\")\\\n",
        "                                    .withColumnRenamed(\"_c3\", \"Score\")\\\n",
        "                                    .select('ID','Name','Score')\n",
        "\n",
        "data_type2 = data_type2.withColumnRenamed(\"_c0\", \"ID\")\\\n",
        "                                    .withColumnRenamed(\"_c1\", \"Name\")\\\n",
        "                                    .withColumnRenamed(\"_c2\", \"Score\")\\\n",
        "                                    .select('ID','Name','Score')\n",
        "\n",
        "data_type3 = data_type3.withColumn(\"Score\", data_type3[\"_c3\"].cast(IntegerType())+data_type3[\"_c4\"].cast(IntegerType()))\n",
        "data_type3 = data_type3.withColumn(\"Name\", concat(data_type3[\"_c1\"],lit(' '),data_type3[\"_c2\"]))\n",
        "data_type3 = data_type3.withColumnRenamed(\"_c0\", \"ID\")\\\n",
        "                                    .select('ID','Name','Score')\n",
        "\n",
        "data_set_column=data_type1\n",
        "data_set_column=data_set_column.unionByName(data_type2, allowMissingColumns=True) # Union body data that saprated and seted\n",
        "data_set_column=data_set_column.unionByName(data_type3, allowMissingColumns=True)"
      ]
    },
    {
      "cell_type": "code",
      "execution_count": null,
      "metadata": {
        "id": "lRQowMIequs9",
        "colab": {
          "base_uri": "https://localhost:8080/"
        },
        "outputId": "e2781a79-787c-456b-cf9e-bda4a8727d9c"
      },
      "outputs": [
        {
          "output_type": "stream",
          "name": "stdout",
          "text": [
            "+---+----+-----+\n",
            "| ID|Name|Score|\n",
            "+---+----+-----+\n",
            "|  0|   0|    1|\n",
            "+---+----+-----+\n",
            "\n"
          ]
        }
      ],
      "source": [
        "table_data_missing = data_set_column.select([count(when(col(c).contains('None') | \\\n",
        "                            col(c).contains('NULL') | \\\n",
        "                            (col(c) == '' ) | \\\n",
        "                            col(c).isNull() | \\\n",
        "                            isnan(c), c\n",
        "                           )).alias(c)\n",
        "                    for c in data_set_column.columns]).show() #Show number of row that have null value"
      ]
    },
    {
      "cell_type": "code",
      "execution_count": null,
      "metadata": {
        "id": "GjtISU6xsHWy",
        "colab": {
          "base_uri": "https://localhost:8080/"
        },
        "outputId": "b2f564ae-79c8-42b7-e5fd-835fcc87012c"
      },
      "outputs": [
        {
          "output_type": "stream",
          "name": "stdout",
          "text": [
            "+-----+----------------+-----+\n",
            "|   ID|            Name|Score|\n",
            "+-----+----------------+-----+\n",
            "|10876|Nomoji Boomhabim| null|\n",
            "+-----+----------------+-----+\n",
            "\n"
          ]
        }
      ],
      "source": [
        "col_will_see_null=\"Score\"\n",
        "data_set_column.filter(col(col_will_see_null).contains('None') | col(col_will_see_null).contains('NULL') | (col(col_will_see_null) == '' ) |  col(col_will_see_null).isNull() | isnan(col_will_see_null) ).show() #Show row of body data that have null value"
      ]
    },
    {
      "cell_type": "code",
      "execution_count": null,
      "metadata": {
        "id": "lTeoEfB6v1Db"
      },
      "outputs": [],
      "source": [
        "data_set_column=data_set_column.dropna() #Drop row of data that have null value"
      ]
    },
    {
      "cell_type": "markdown",
      "metadata": {
        "id": "eoLL89D83JEl"
      },
      "source": [
        "## Define grade of student by using UDF  "
      ]
    },
    {
      "cell_type": "code",
      "execution_count": null,
      "metadata": {
        "colab": {
          "base_uri": "https://localhost:8080/"
        },
        "id": "gkrZ72NiwKCD",
        "outputId": "4c6fe1a1-a3f9-4019-900c-188c12bafff2"
      },
      "outputs": [
        {
          "output_type": "stream",
          "name": "stdout",
          "text": [
            "+-----+------------------+-----+-----+\n",
            "|   ID|              Name|Score|Grade|\n",
            "+-----+------------------+-----+-----+\n",
            "|07019|      John Jinmano|   89|    B|\n",
            "|07023|    Ampino Nattima|   45|    F|\n",
            "|07540|     Pina Aimomani|   54|    F|\n",
            "|07012|     Bim Sarimarai|   38|    F|\n",
            "|07885|    Fern Chimokoli|   86|    B|\n",
            "|08459|     Non Koomjicus|   78|    C|\n",
            "|30485|    Bokim Enjivoko|   63|    D|\n",
            "|42443|      Zine Honolim|   67|    D|\n",
            "|89923|Boxinz Fulamaranko|   57|    F|\n",
            "|08067|      Lin Enjivoko|   77|    C|\n",
            "|09443|     Dome Fulkivol|   60|    D|\n",
            "|08963|   Valki Domtomkiz|   37|    F|\n",
            "+-----+------------------+-----+-----+\n",
            "\n"
          ]
        }
      ],
      "source": [
        "data_set_column = data_set_column.withColumn(\"Score\", data_set_column[\"Score\"].cast(IntegerType()))\n",
        "\n",
        "def define_grade(score):\n",
        "      if score>=90:\n",
        "        grade = \"A\"\n",
        "      elif score>=80:\n",
        "        grade = \"B\"\n",
        "      elif score>=70:\n",
        "        grade = \"C\"\n",
        "      elif score>=60:\n",
        "        grade = \"D\"\n",
        "      else:\n",
        "        grade = \"F\"\n",
        "      return grade\n",
        "\n",
        "define_grade_UDF = udf(lambda z: define_grade(z),StringType())\n",
        "\n",
        "data_set_column=data_set_column.withColumn('Grade', define_grade_UDF(col('Score')))\n",
        "\n",
        "data_set_column.show()"
      ]
    },
    {
      "cell_type": "markdown",
      "metadata": {
        "id": "JZmirQ8Atd4X"
      },
      "source": [
        "# **Write Files**\n",
        "\n",
        "---\n",
        "\n"
      ]
    },
    {
      "cell_type": "code",
      "execution_count": null,
      "metadata": {
        "id": "x6V3XYV69jqO"
      },
      "outputs": [],
      "source": [
        "data_set_column.write.csv('/content/result/Cleaned_data.csv', header = True)"
      ]
    }
  ],
  "metadata": {
    "colab": {
      "collapsed_sections": [
        "lq3JEJX7tRwb",
        "aWrWK14Suu4b",
        "RUp0AGeby4F3",
        "eoLL89D83JEl"
      ],
      "provenance": []
    },
    "kernelspec": {
      "display_name": "Python 3",
      "name": "python3"
    },
    "language_info": {
      "name": "python"
    }
  },
  "nbformat": 4,
  "nbformat_minor": 0
}